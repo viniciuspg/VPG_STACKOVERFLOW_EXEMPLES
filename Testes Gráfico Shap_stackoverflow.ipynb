{
 "cells": [
  {
   "cell_type": "markdown",
   "metadata": {},
   "source": [
    "# Imports & Test DataFrame"
   ]
  },
  {
   "cell_type": "code",
   "execution_count": 1,
   "metadata": {},
   "outputs": [],
   "source": [
    "import pandas as pd\n",
    "import seaborn as sns\n",
    "import numpy as np  # for sample data\n",
    "\n",
    "import matplotlib.pyplot as plt\n",
    "\n",
    "from sklearn.model_selection import train_test_split\n",
    "from sklearn.ensemble import RandomForestClassifier\n",
    "from sklearn.model_selection import cross_val_score\n",
    "from sklearn.inspection import permutation_importance\n",
    "import shap\n",
    "from matplotlib import pyplot as plt\n",
    "\n",
    "# set seed for reproducibility\n",
    "np.random.seed(1)\n",
    "\n",
    "# create arrays of random sample data\n",
    "cl = np.random.choice(range(1, 6), size=(100, 1))\n",
    "d = np.random.random_sample(size=(100, 6))\n",
    "\n",
    "# combine the two arrays\n",
    "data = np.concatenate([cl, d], axis=1)\n",
    "\n",
    "# create a dataframe\n",
    "data = pd.DataFrame(data, columns=['classe', 'mB0', 'mB1', 'mB2', 'vB0', 'vB1', 'vB2'])\n"
   ]
  },
  {
   "cell_type": "code",
   "execution_count": 2,
   "metadata": {},
   "outputs": [
    {
     "data": {
      "text/html": [
       "<div>\n",
       "<style scoped>\n",
       "    .dataframe tbody tr th:only-of-type {\n",
       "        vertical-align: middle;\n",
       "    }\n",
       "\n",
       "    .dataframe tbody tr th {\n",
       "        vertical-align: top;\n",
       "    }\n",
       "\n",
       "    .dataframe thead th {\n",
       "        text-align: right;\n",
       "    }\n",
       "</style>\n",
       "<table border=\"1\" class=\"dataframe\">\n",
       "  <thead>\n",
       "    <tr style=\"text-align: right;\">\n",
       "      <th></th>\n",
       "      <th>classe</th>\n",
       "      <th>mB0</th>\n",
       "      <th>mB1</th>\n",
       "      <th>mB2</th>\n",
       "      <th>vB0</th>\n",
       "      <th>vB1</th>\n",
       "      <th>vB2</th>\n",
       "    </tr>\n",
       "  </thead>\n",
       "  <tbody>\n",
       "    <tr>\n",
       "      <th>0</th>\n",
       "      <td>4.0</td>\n",
       "      <td>0.647749</td>\n",
       "      <td>0.353939</td>\n",
       "      <td>0.763233</td>\n",
       "      <td>0.356532</td>\n",
       "      <td>0.752788</td>\n",
       "      <td>0.881342</td>\n",
       "    </tr>\n",
       "    <tr>\n",
       "      <th>1</th>\n",
       "      <td>5.0</td>\n",
       "      <td>0.011669</td>\n",
       "      <td>0.498109</td>\n",
       "      <td>0.073792</td>\n",
       "      <td>0.786951</td>\n",
       "      <td>0.064067</td>\n",
       "      <td>0.355310</td>\n",
       "    </tr>\n",
       "    <tr>\n",
       "      <th>2</th>\n",
       "      <td>1.0</td>\n",
       "      <td>0.941837</td>\n",
       "      <td>0.379803</td>\n",
       "      <td>0.762920</td>\n",
       "      <td>0.771595</td>\n",
       "      <td>0.301360</td>\n",
       "      <td>0.772739</td>\n",
       "    </tr>\n",
       "    <tr>\n",
       "      <th>3</th>\n",
       "      <td>2.0</td>\n",
       "      <td>0.152930</td>\n",
       "      <td>0.578634</td>\n",
       "      <td>0.009008</td>\n",
       "      <td>0.709043</td>\n",
       "      <td>0.470641</td>\n",
       "      <td>0.764593</td>\n",
       "    </tr>\n",
       "    <tr>\n",
       "      <th>4</th>\n",
       "      <td>4.0</td>\n",
       "      <td>0.467393</td>\n",
       "      <td>0.269001</td>\n",
       "      <td>0.831693</td>\n",
       "      <td>0.551325</td>\n",
       "      <td>0.070081</td>\n",
       "      <td>0.472475</td>\n",
       "    </tr>\n",
       "    <tr>\n",
       "      <th>...</th>\n",
       "      <td>...</td>\n",
       "      <td>...</td>\n",
       "      <td>...</td>\n",
       "      <td>...</td>\n",
       "      <td>...</td>\n",
       "      <td>...</td>\n",
       "      <td>...</td>\n",
       "    </tr>\n",
       "    <tr>\n",
       "      <th>95</th>\n",
       "      <td>3.0</td>\n",
       "      <td>0.893316</td>\n",
       "      <td>0.600380</td>\n",
       "      <td>0.784025</td>\n",
       "      <td>0.788337</td>\n",
       "      <td>0.980759</td>\n",
       "      <td>0.686563</td>\n",
       "    </tr>\n",
       "    <tr>\n",
       "      <th>96</th>\n",
       "      <td>1.0</td>\n",
       "      <td>0.919947</td>\n",
       "      <td>0.069396</td>\n",
       "      <td>0.531458</td>\n",
       "      <td>0.584100</td>\n",
       "      <td>0.386633</td>\n",
       "      <td>0.261260</td>\n",
       "    </tr>\n",
       "    <tr>\n",
       "      <th>97</th>\n",
       "      <td>3.0</td>\n",
       "      <td>0.449316</td>\n",
       "      <td>0.547591</td>\n",
       "      <td>0.845923</td>\n",
       "      <td>0.815795</td>\n",
       "      <td>0.261264</td>\n",
       "      <td>0.982056</td>\n",
       "    </tr>\n",
       "    <tr>\n",
       "      <th>98</th>\n",
       "      <td>5.0</td>\n",
       "      <td>0.928058</td>\n",
       "      <td>0.335672</td>\n",
       "      <td>0.704562</td>\n",
       "      <td>0.649134</td>\n",
       "      <td>0.208791</td>\n",
       "      <td>0.744471</td>\n",
       "    </tr>\n",
       "    <tr>\n",
       "      <th>99</th>\n",
       "      <td>2.0</td>\n",
       "      <td>0.977718</td>\n",
       "      <td>0.415604</td>\n",
       "      <td>0.091558</td>\n",
       "      <td>0.261298</td>\n",
       "      <td>0.228855</td>\n",
       "      <td>0.831441</td>\n",
       "    </tr>\n",
       "  </tbody>\n",
       "</table>\n",
       "<p>100 rows × 7 columns</p>\n",
       "</div>"
      ],
      "text/plain": [
       "    classe       mB0       mB1       mB2       vB0       vB1       vB2\n",
       "0      4.0  0.647749  0.353939  0.763233  0.356532  0.752788  0.881342\n",
       "1      5.0  0.011669  0.498109  0.073792  0.786951  0.064067  0.355310\n",
       "2      1.0  0.941837  0.379803  0.762920  0.771595  0.301360  0.772739\n",
       "3      2.0  0.152930  0.578634  0.009008  0.709043  0.470641  0.764593\n",
       "4      4.0  0.467393  0.269001  0.831693  0.551325  0.070081  0.472475\n",
       "..     ...       ...       ...       ...       ...       ...       ...\n",
       "95     3.0  0.893316  0.600380  0.784025  0.788337  0.980759  0.686563\n",
       "96     1.0  0.919947  0.069396  0.531458  0.584100  0.386633  0.261260\n",
       "97     3.0  0.449316  0.547591  0.845923  0.815795  0.261264  0.982056\n",
       "98     5.0  0.928058  0.335672  0.704562  0.649134  0.208791  0.744471\n",
       "99     2.0  0.977718  0.415604  0.091558  0.261298  0.228855  0.831441\n",
       "\n",
       "[100 rows x 7 columns]"
      ]
     },
     "execution_count": 2,
     "metadata": {},
     "output_type": "execute_result"
    }
   ],
   "source": [
    "data"
   ]
  },
  {
   "cell_type": "code",
   "execution_count": 3,
   "metadata": {},
   "outputs": [],
   "source": [
    "# create an 'id' column with sequential numbering \n",
    "#fonte: https://pythonexamples.org/pandas-set-column-as-index/#:~:text=Pandas%20%E2%80%93%20Set%20Column%20as%20Index&text=To%20set%20a%20column%20as,index%2C%20to%20set_index()%20method.\n",
    "data['id'] = data.index"
   ]
  },
  {
   "cell_type": "code",
   "execution_count": 4,
   "metadata": {},
   "outputs": [
    {
     "data": {
      "text/html": [
       "<div>\n",
       "<style scoped>\n",
       "    .dataframe tbody tr th:only-of-type {\n",
       "        vertical-align: middle;\n",
       "    }\n",
       "\n",
       "    .dataframe tbody tr th {\n",
       "        vertical-align: top;\n",
       "    }\n",
       "\n",
       "    .dataframe thead th {\n",
       "        text-align: right;\n",
       "    }\n",
       "</style>\n",
       "<table border=\"1\" class=\"dataframe\">\n",
       "  <thead>\n",
       "    <tr style=\"text-align: right;\">\n",
       "      <th></th>\n",
       "      <th>classe</th>\n",
       "      <th>mB0</th>\n",
       "      <th>mB1</th>\n",
       "      <th>mB2</th>\n",
       "      <th>vB0</th>\n",
       "      <th>vB1</th>\n",
       "      <th>vB2</th>\n",
       "      <th>id</th>\n",
       "    </tr>\n",
       "  </thead>\n",
       "  <tbody>\n",
       "    <tr>\n",
       "      <th>0</th>\n",
       "      <td>4.0</td>\n",
       "      <td>0.647749</td>\n",
       "      <td>0.353939</td>\n",
       "      <td>0.763233</td>\n",
       "      <td>0.356532</td>\n",
       "      <td>0.752788</td>\n",
       "      <td>0.881342</td>\n",
       "      <td>0</td>\n",
       "    </tr>\n",
       "    <tr>\n",
       "      <th>1</th>\n",
       "      <td>5.0</td>\n",
       "      <td>0.011669</td>\n",
       "      <td>0.498109</td>\n",
       "      <td>0.073792</td>\n",
       "      <td>0.786951</td>\n",
       "      <td>0.064067</td>\n",
       "      <td>0.355310</td>\n",
       "      <td>1</td>\n",
       "    </tr>\n",
       "    <tr>\n",
       "      <th>2</th>\n",
       "      <td>1.0</td>\n",
       "      <td>0.941837</td>\n",
       "      <td>0.379803</td>\n",
       "      <td>0.762920</td>\n",
       "      <td>0.771595</td>\n",
       "      <td>0.301360</td>\n",
       "      <td>0.772739</td>\n",
       "      <td>2</td>\n",
       "    </tr>\n",
       "    <tr>\n",
       "      <th>3</th>\n",
       "      <td>2.0</td>\n",
       "      <td>0.152930</td>\n",
       "      <td>0.578634</td>\n",
       "      <td>0.009008</td>\n",
       "      <td>0.709043</td>\n",
       "      <td>0.470641</td>\n",
       "      <td>0.764593</td>\n",
       "      <td>3</td>\n",
       "    </tr>\n",
       "    <tr>\n",
       "      <th>4</th>\n",
       "      <td>4.0</td>\n",
       "      <td>0.467393</td>\n",
       "      <td>0.269001</td>\n",
       "      <td>0.831693</td>\n",
       "      <td>0.551325</td>\n",
       "      <td>0.070081</td>\n",
       "      <td>0.472475</td>\n",
       "      <td>4</td>\n",
       "    </tr>\n",
       "    <tr>\n",
       "      <th>...</th>\n",
       "      <td>...</td>\n",
       "      <td>...</td>\n",
       "      <td>...</td>\n",
       "      <td>...</td>\n",
       "      <td>...</td>\n",
       "      <td>...</td>\n",
       "      <td>...</td>\n",
       "      <td>...</td>\n",
       "    </tr>\n",
       "    <tr>\n",
       "      <th>95</th>\n",
       "      <td>3.0</td>\n",
       "      <td>0.893316</td>\n",
       "      <td>0.600380</td>\n",
       "      <td>0.784025</td>\n",
       "      <td>0.788337</td>\n",
       "      <td>0.980759</td>\n",
       "      <td>0.686563</td>\n",
       "      <td>95</td>\n",
       "    </tr>\n",
       "    <tr>\n",
       "      <th>96</th>\n",
       "      <td>1.0</td>\n",
       "      <td>0.919947</td>\n",
       "      <td>0.069396</td>\n",
       "      <td>0.531458</td>\n",
       "      <td>0.584100</td>\n",
       "      <td>0.386633</td>\n",
       "      <td>0.261260</td>\n",
       "      <td>96</td>\n",
       "    </tr>\n",
       "    <tr>\n",
       "      <th>97</th>\n",
       "      <td>3.0</td>\n",
       "      <td>0.449316</td>\n",
       "      <td>0.547591</td>\n",
       "      <td>0.845923</td>\n",
       "      <td>0.815795</td>\n",
       "      <td>0.261264</td>\n",
       "      <td>0.982056</td>\n",
       "      <td>97</td>\n",
       "    </tr>\n",
       "    <tr>\n",
       "      <th>98</th>\n",
       "      <td>5.0</td>\n",
       "      <td>0.928058</td>\n",
       "      <td>0.335672</td>\n",
       "      <td>0.704562</td>\n",
       "      <td>0.649134</td>\n",
       "      <td>0.208791</td>\n",
       "      <td>0.744471</td>\n",
       "      <td>98</td>\n",
       "    </tr>\n",
       "    <tr>\n",
       "      <th>99</th>\n",
       "      <td>2.0</td>\n",
       "      <td>0.977718</td>\n",
       "      <td>0.415604</td>\n",
       "      <td>0.091558</td>\n",
       "      <td>0.261298</td>\n",
       "      <td>0.228855</td>\n",
       "      <td>0.831441</td>\n",
       "      <td>99</td>\n",
       "    </tr>\n",
       "  </tbody>\n",
       "</table>\n",
       "<p>100 rows × 8 columns</p>\n",
       "</div>"
      ],
      "text/plain": [
       "    classe       mB0       mB1       mB2       vB0       vB1       vB2  id\n",
       "0      4.0  0.647749  0.353939  0.763233  0.356532  0.752788  0.881342   0\n",
       "1      5.0  0.011669  0.498109  0.073792  0.786951  0.064067  0.355310   1\n",
       "2      1.0  0.941837  0.379803  0.762920  0.771595  0.301360  0.772739   2\n",
       "3      2.0  0.152930  0.578634  0.009008  0.709043  0.470641  0.764593   3\n",
       "4      4.0  0.467393  0.269001  0.831693  0.551325  0.070081  0.472475   4\n",
       "..     ...       ...       ...       ...       ...       ...       ...  ..\n",
       "95     3.0  0.893316  0.600380  0.784025  0.788337  0.980759  0.686563  95\n",
       "96     1.0  0.919947  0.069396  0.531458  0.584100  0.386633  0.261260  96\n",
       "97     3.0  0.449316  0.547591  0.845923  0.815795  0.261264  0.982056  97\n",
       "98     5.0  0.928058  0.335672  0.704562  0.649134  0.208791  0.744471  98\n",
       "99     2.0  0.977718  0.415604  0.091558  0.261298  0.228855  0.831441  99\n",
       "\n",
       "[100 rows x 8 columns]"
      ]
     },
     "execution_count": 4,
     "metadata": {},
     "output_type": "execute_result"
    }
   ],
   "source": [
    "#see dataframe\n",
    "data"
   ]
  },
  {
   "cell_type": "code",
   "execution_count": 5,
   "metadata": {},
   "outputs": [
    {
     "data": {
      "text/plain": [
       "((100, 6), (100,))"
      ]
     },
     "execution_count": 5,
     "metadata": {},
     "output_type": "execute_result"
    }
   ],
   "source": [
    "#Specifying Predictors (X) and Target Variable (y)\n",
    "X = data.drop(['classe','id'], axis=1)   #assigning predictors to X\n",
    "y = data['classe']                #subsetting only the target variable to y\n",
    "\n",
    "X.shape, y.shape"
   ]
  },
  {
   "cell_type": "code",
   "execution_count": 6,
   "metadata": {},
   "outputs": [
    {
     "name": "stdout",
     "output_type": "stream",
     "text": [
      "(70, 6) (70,)\n",
      "(30, 6) (30,)\n"
     ]
    }
   ],
   "source": [
    "# implementing train-test-split\n",
    "X_train, X_test, y_train, y_test = train_test_split(X, y, test_size=0.3, random_state=1, stratify=y)\n",
    "\n",
    "X_test.shape, y_test.shape\n",
    "\n",
    "print (X_train.shape, y_train.shape)\n",
    "print (X_test.shape, y_test.shape)"
   ]
  },
  {
   "cell_type": "markdown",
   "metadata": {},
   "source": [
    "# --------------------------- Random Forests Classification ---------------------------"
   ]
  },
  {
   "cell_type": "code",
   "execution_count": 7,
   "metadata": {},
   "outputs": [
    {
     "data": {
      "text/plain": [
       "RandomForestClassifier()"
      ]
     },
     "execution_count": 7,
     "metadata": {},
     "output_type": "execute_result"
    }
   ],
   "source": [
    "#Creating the RF Classifier model with 100 trees\n",
    "rf = RandomForestClassifier(n_estimators=100)\n",
    "#Fitting the classifier to the data\n",
    "rf.fit(X_train, y_train)"
   ]
  },
  {
   "cell_type": "code",
   "execution_count": 8,
   "metadata": {},
   "outputs": [],
   "source": [
    "#Getting predictions\n",
    "y_rf_pred = rf.predict(X_test)\n"
   ]
  },
  {
   "cell_type": "markdown",
   "metadata": {},
   "source": [
    "## First analysis of accuracy metrics\n",
    "\n",
    "Here we use the following metrics:\n",
    "\n",
    "Accuracy: the number of correctly classified samples/total number of samples. The Error rate is directly related to the accuracy, being error rate = 1.0 – accuracy.\n",
    "\n",
    "User's Accuracy (precision score): a ratio between true positives/total number of positives predicted ((TP) / (TP+FP)). It is the ability of the classifier not to label as positive a sample that is negative.\n",
    "\n",
    "Producer's Accuracy (recall score): ratio between true positives/total number of actual positives {(TP)/(TP+FN)}. It is the ability of the classifier to find all the positive samples.\n",
    "\n",
    "F1-score: harmonic mean of precision and recall"
   ]
  },
  {
   "cell_type": "code",
   "execution_count": 9,
   "metadata": {},
   "outputs": [
    {
     "name": "stdout",
     "output_type": "stream",
     "text": [
      "=== Classification Report ===\n",
      "              precision    recall  f1-score   support\n",
      "\n",
      "         1.0     0.2857    0.3333    0.3077         6\n",
      "         2.0     0.4444    0.5714    0.5000         7\n",
      "         3.0     0.0000    0.0000    0.0000         5\n",
      "         4.0     0.0000    0.0000    0.0000         5\n",
      "         5.0     0.3000    0.4286    0.3529         7\n",
      "\n",
      "    accuracy                         0.3000        30\n",
      "   macro avg     0.2060    0.2667    0.2321        30\n",
      "weighted avg     0.2308    0.3000    0.2606        30\n",
      "\n",
      "\n",
      "\n",
      "=== Confusion Matrix ===\n",
      "[[2 1 1 1 1]\n",
      " [0 4 0 0 3]\n",
      " [1 1 0 1 2]\n",
      " [2 2 0 0 1]\n",
      " [2 1 0 1 3]]\n",
      "\n",
      "\n"
     ]
    },
    {
     "data": {
      "text/plain": [
       "<sklearn.metrics._plot.confusion_matrix.ConfusionMatrixDisplay at 0x1c8642032e0>"
      ]
     },
     "execution_count": 9,
     "metadata": {},
     "output_type": "execute_result"
    },
    {
     "data": {
      "image/png": "[encoded data removed]",
      "text/plain": [
       "<Figure size 432x288 with 2 Axes>"
      ]
     },
     "metadata": {
      "needs_background": "light"
     },
     "output_type": "display_data"
    }
   ],
   "source": [
    "#Summarized classification report\n",
    "print(\"=== Classification Report ===\")\n",
    "from sklearn.metrics import classification_report, confusion_matrix, ConfusionMatrixDisplay\n",
    "print(classification_report(y_test, y_rf_pred, digits=4))\n",
    "\n",
    "print('\\n')\n",
    "\n",
    "print(\"=== Confusion Matrix ===\")\n",
    "print(confusion_matrix(y_test, y_rf_pred))\n",
    "\n",
    "print('\\n')\n",
    "cm = confusion_matrix(y_test, y_rf_pred)\n",
    "disp = ConfusionMatrixDisplay(confusion_matrix=cm, display_labels=rf.classes_)\n",
    "disp.plot()"
   ]
  },
  {
   "cell_type": "markdown",
   "metadata": {},
   "source": [
    "## Finding optimal parameters for this model\n",
    "\n",
    "Random forest classifier is defined by a set of parameters such as: criterion,  number of trees and maximum depth\n",
    "\n",
    "Here we'll use RandomizedSearchCV function to meet the optimal parameters for this dataset classification"
   ]
  },
  {
   "cell_type": "code",
   "execution_count": 10,
   "metadata": {},
   "outputs": [
    {
     "name": "stdout",
     "output_type": "stream",
     "text": [
      "Fitting 10 folds for each of 100 candidates, totalling 1000 fits\n",
      "{'n_estimators': 366, 'max_features': 'auto', 'max_depth': 1}\n"
     ]
    }
   ],
   "source": [
    "from sklearn.model_selection import RandomizedSearchCV\n",
    "# number of trees in random forest\n",
    "n_estimators = [int(x) for x in np.linspace(start = 100, stop = 500, num = 10)]\n",
    "# number of features at every split\n",
    "max_features = ['auto', 'sqrt']\n",
    "\n",
    "# max depth\n",
    "max_depth = [int(x) for x in np.linspace(1, 50, num = 11)]\n",
    "max_depth.append(None)\n",
    "# create random grid\n",
    "random_grid = {\n",
    " 'n_estimators': n_estimators,\n",
    " 'max_features': max_features,\n",
    " 'max_depth': max_depth\n",
    " }\n",
    "# Random search of parameters\n",
    "rfc_random = RandomizedSearchCV(estimator = rf, param_distributions = random_grid, n_iter = 100, cv = 10, verbose=2, random_state=42, n_jobs = -1, return_train_score=True)\n",
    "# Fit the model\n",
    "rfc_random.fit(X_train, y_train)\n",
    "# print results\n",
    "print(rfc_random.best_params_)"
   ]
  },
  {
   "cell_type": "code",
   "execution_count": 11,
   "metadata": {},
   "outputs": [],
   "source": [
    "cross_val = rfc_random.cv_results_"
   ]
  },
  {
   "cell_type": "markdown",
   "metadata": {},
   "source": [
    "### Running the model with optimized hyperparameters"
   ]
  },
  {
   "cell_type": "code",
   "execution_count": 12,
   "metadata": {},
   "outputs": [],
   "source": [
    "rf_tuned = RandomForestClassifier(n_estimators=144, max_depth=10, max_features='sqrt')\n",
    "rf_tuned.fit(X_train,y_train)\n",
    "y_pred_rftuned = rf_tuned.predict(X_test)\n",
    "rf_cv_score = cross_val_score(rf_tuned, X, y, cv=10)"
   ]
  },
  {
   "cell_type": "code",
   "execution_count": 13,
   "metadata": {},
   "outputs": [
    {
     "name": "stdout",
     "output_type": "stream",
     "text": [
      "=== Classification Report ===\n",
      "              precision    recall  f1-score   support\n",
      "\n",
      "         1.0     0.3333    0.3333    0.3333         6\n",
      "         2.0     0.4000    0.5714    0.4706         7\n",
      "         3.0     0.0000    0.0000    0.0000         5\n",
      "         4.0     0.0000    0.0000    0.0000         5\n",
      "         5.0     0.3750    0.4286    0.4000         7\n",
      "\n",
      "    accuracy                         0.3000        30\n",
      "   macro avg     0.2217    0.2667    0.2408        30\n",
      "weighted avg     0.2475    0.3000    0.2698        30\n",
      "\n",
      "\n",
      "\n",
      "=== Confusion Matrix ===\n",
      "[[2 1 1 1 1]\n",
      " [0 4 1 0 2]\n",
      " [1 1 0 2 1]\n",
      " [1 3 0 0 1]\n",
      " [2 1 0 1 3]]\n"
     ]
    },
    {
     "data": {
      "text/plain": [
       "<sklearn.metrics._plot.confusion_matrix.ConfusionMatrixDisplay at 0x1c86901bb80>"
      ]
     },
     "execution_count": 13,
     "metadata": {},
     "output_type": "execute_result"
    },
    {
     "data": {
      "image/png": "[encoded data removed]",
      "text/plain": [
       "<Figure size 432x288 with 2 Axes>"
      ]
     },
     "metadata": {
      "needs_background": "light"
     },
     "output_type": "display_data"
    }
   ],
   "source": [
    "#Summarized classification report\n",
    "print(\"=== Classification Report ===\")\n",
    "from sklearn.metrics import classification_report, confusion_matrix, ConfusionMatrixDisplay\n",
    "print(classification_report(y_test, y_pred_rftuned, digits=4))\n",
    "\n",
    "print('\\n')\n",
    "\n",
    "print(\"=== Confusion Matrix ===\")\n",
    "print(confusion_matrix(y_test, y_pred_rftuned))\n",
    "\n",
    "cm = confusion_matrix(y_test, y_pred_rftuned)\n",
    "disp = ConfusionMatrixDisplay(confusion_matrix=cm, display_labels=rf_tuned.classes_)\n",
    "disp.plot()"
   ]
  },
  {
   "cell_type": "markdown",
   "metadata": {},
   "source": [
    "### Saving the tuned model to a external file to be used again without having to train all over again"
   ]
  },
  {
   "cell_type": "code",
   "execution_count": 14,
   "metadata": {},
   "outputs": [
    {
     "data": {
      "text/plain": [
       "['test3_rf_classifier.joblib']"
      ]
     },
     "execution_count": 14,
     "metadata": {},
     "output_type": "execute_result"
    }
   ],
   "source": [
    "from joblib import dump, load\n",
    "dump(rf_tuned, 'test3_rf_classifier.joblib')"
   ]
  },
  {
   "cell_type": "markdown",
   "metadata": {},
   "source": [
    "## Feature Importance Computed with SHAP Values\n",
    "\n",
    "The SHAP interpretation can be used (it is model-agnostic) to compute the feature importances from the Random Forest. \n",
    "It is performed using the Shapley values from game theory to estimate how does each feature contribute to the prediction. \n",
    "It can be easily installed (pip install shap) and used with scikit-learn Random Forest"
   ]
  },
  {
   "cell_type": "code",
   "execution_count": 15,
   "metadata": {},
   "outputs": [
    {
     "data": {
      "image/png": "[encoded data removed]",
      "text/plain": [
       "<Figure size 576x280.8 with 1 Axes>"
      ]
     },
     "metadata": {
      "needs_background": "light"
     },
     "output_type": "display_data"
    }
   ],
   "source": [
    "explainer = shap.TreeExplainer(rf_tuned)\n",
    "shap_values = explainer.shap_values(X_test, approximate=False, check_additivity=False)\n",
    "\n",
    "shap.summary_plot(shap_values, X_test, max_display=1000)"
   ]
  },
  {
   "cell_type": "code",
   "execution_count": 16,
   "metadata": {},
   "outputs": [
    {
     "name": "stdout",
     "output_type": "stream",
     "text": [
      "Index(['vB0', 'mB1', 'vB1', 'mB2', 'mB0', 'vB2'], dtype='object')\n"
     ]
    }
   ],
   "source": [
    "sv = np.array(shap_values)\n",
    "sv_mean=np.abs(sv).mean(1).sum(0)\n",
    "order = np.argsort(sv_mean)[::-1]\n",
    "ordered_cols = X_test.columns[order]\n",
    "print(ordered_cols)"
   ]
  }
 ],
 "metadata": {
  "kernelspec": {
   "display_name": "Python 3",
   "language": "python",
   "name": "python3"
  },
  "language_info": {
   "codemirror_mode": {
    "name": "ipython",
    "version": 3
   },
   "file_extension": ".py",
   "mimetype": "text/x-python",
   "name": "python",
   "nbconvert_exporter": "python",
   "pygments_lexer": "ipython3",
   "version": "3.8.5"
  }
 },
 "nbformat": 4,
 "nbformat_minor": 4
}
